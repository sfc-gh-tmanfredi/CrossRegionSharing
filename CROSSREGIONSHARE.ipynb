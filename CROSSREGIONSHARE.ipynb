{
 "metadata": {
  "kernelspec": {
   "display_name": "Streamlit Notebook",
   "name": "streamlit"
  },
  "lastEditStatus": {
   "notebookId": "jwzrdgoefajh6mohdw7r",
   "authorId": "67158795500",
   "authorName": "TMANFREDI",
   "authorEmail": "tom.manfredi@snowflake.com",
   "sessionId": "6c160447-4559-410d-9a0d-68b545d82d13",
   "lastEditTime": 1755353691966
  }
 },
 "nbformat_minor": 5,
 "nbformat": 4,
 "cells": [
  {
   "cell_type": "markdown",
   "id": "2eaf91e5-bb6d-4435-aa1f-054039725b43",
   "metadata": {
    "name": "cell82",
    "collapsed": false,
    "resultHeight": 211
   },
   "source": "# This notebook will demonstrate the process of securely sharing data across regions using the Secure Sharing Area (SSA)"
  },
  {
   "cell_type": "code",
   "id": "77e4831a-c521-419b-a688-39c554e6f809",
   "metadata": {
    "language": "python",
    "name": "cell1",
    "collapsed": false,
    "codeCollapsed": true
   },
   "outputs": [],
   "source": "import streamlit as st\nst.image(\"XRegionShare.png\")",
   "execution_count": null
  },
  {
   "cell_type": "code",
   "id": "8d50cbf4-0c8d-4950-86cb-114990437ac9",
   "metadata": {
    "language": "sql",
    "name": "SetContext",
    "resultHeight": 0,
    "collapsed": false,
    "codeCollapsed": false
   },
   "source": "use role ACCOUNTADMIN; \ncreate or replace database CROSSREGIONSHARETEST; \nuse schema CROSSREGIONSHARETEST.PUBLIC;",
   "execution_count": null,
   "outputs": []
  },
  {
   "cell_type": "markdown",
   "id": "ae98d086-9a26-4e04-9285-ed8c9e91a1d2",
   "metadata": {
    "name": "cell3",
    "collapsed": false
   },
   "source": "### Create our test data using SNOWFLAKE_SAMPLE_DATA"
  },
  {
   "cell_type": "code",
   "id": "5bfb7f2a-33ff-4d7a-8325-f73d23ec8361",
   "metadata": {
    "language": "sql",
    "name": "PopulateTestData"
   },
   "outputs": [],
   "source": "create or replace table customer as \nselect * from snowflake_sample_data.TPCDS_SF10TCL.customer;",
   "execution_count": null
  },
  {
   "cell_type": "code",
   "id": "06d6e083-e3c4-4fe1-9c66-79d2fb4ec70c",
   "metadata": {
    "language": "sql",
    "name": "cell9"
   },
   "outputs": [],
   "source": "use schema CROSSREGIONSHARETEST.PUBLIC;",
   "execution_count": null
  },
  {
   "cell_type": "markdown",
   "id": "4f59177c-9718-4d88-aa42-002d84c1d373",
   "metadata": {
    "name": "cell8",
    "collapsed": false,
    "resultHeight": 46
   },
   "source": "### Lets look at some of our data..."
  },
  {
   "cell_type": "code",
   "id": "da4ac4cc-cf22-4429-b17e-1cbf469f7902",
   "metadata": {
    "language": "sql",
    "name": "cell7",
    "collapsed": false,
    "resultHeight": 0,
    "codeCollapsed": false
   },
   "outputs": [],
   "source": "select * from customer limit 10;",
   "execution_count": null
  },
  {
   "cell_type": "markdown",
   "id": "1548ef23-10b0-4efa-9ced-535fd41fee26",
   "metadata": {
    "name": "cell6",
    "collapsed": false
   },
   "source": "### Create a masking policy for character data... we will apply this later"
  },
  {
   "cell_type": "code",
   "id": "c7feac52-f10f-49f8-a18a-8069ad846ecc",
   "metadata": {
    "language": "sql",
    "name": "createMaskingPolicy"
   },
   "outputs": [],
   "source": "create or replace masking policy simple_mask_string as\n  (val string) returns string ->\n  case\n    when current_role() in ('ACCOUNTADMIN') then val\n      else '*** masked *****'\n    end;",
   "execution_count": null
  },
  {
   "cell_type": "markdown",
   "id": "2e882bee-671e-402c-a085-38664ce45072",
   "metadata": {
    "name": "cell13",
    "collapsed": false
   },
   "source": "### Create a view on our customer table.  Imagine that the customer_id is sensitive so we'll encrypt it"
  },
  {
   "cell_type": "code",
   "id": "e8b43cb5-d09f-4872-a58b-046a879a8768",
   "metadata": {
    "language": "sql",
    "name": "cell12",
    "collapsed": false,
    "resultHeight": 0,
    "codeCollapsed": false
   },
   "outputs": [],
   "source": "create or replace SECURE view customerV as \nselect \nencrypt(c_customer_id,'abc') as c_customer_id_crypt, \nc_email_address,\nc_first_name,\nc_last_name, \nc_birth_year\nfrom customer; \n\nselect * from customerV limit 10;",
   "execution_count": null
  },
  {
   "cell_type": "markdown",
   "id": "a7d42635-ce0c-4428-a721-5dece932e319",
   "metadata": {
    "name": "cell10",
    "collapsed": false
   },
   "source": "### Test the masking policy. Use any role that is not ACCOUNTADMIN"
  },
  {
   "cell_type": "code",
   "id": "050d0f5e-78d9-462c-ae85-4efbf78cc7bd",
   "metadata": {
    "language": "sql",
    "name": "cell5"
   },
   "outputs": [],
   "source": "use role sysadmin; \nselect * from customerV limit 10;",
   "execution_count": null
  },
  {
   "cell_type": "code",
   "id": "4ace6d50-d737-4e00-9b13-1d23daafac14",
   "metadata": {
    "language": "sql",
    "name": "cell17"
   },
   "outputs": [],
   "source": "use role accountadmin; ",
   "execution_count": null
  },
  {
   "cell_type": "markdown",
   "id": "5aac5290-c841-43b1-b732-95bd68d3528c",
   "metadata": {
    "name": "cell20",
    "collapsed": false
   },
   "source": "### Apply the masking policy to specific columns in our view. The masking will only be in effect for roles other than ACCOUNTADMIN"
  },
  {
   "cell_type": "code",
   "id": "f040a2de-e479-494f-958b-cbe585fe3eb5",
   "metadata": {
    "language": "sql",
    "name": "cell11"
   },
   "outputs": [],
   "source": "alter view customerV modify\n  column c_email_address set masking policy simple_mask_string,\n  column c_last_name set masking policy simple_mask_string,\n  column c_first_name set masking policy simple_mask_string;",
   "execution_count": null
  },
  {
   "cell_type": "markdown",
   "id": "2475c158-1f5e-49b4-b2a1-57b5417f596e",
   "metadata": {
    "name": "cell2",
    "collapsed": false
   },
   "source": "## Now lets share this view to the consumer account by creating and publishing a listing\n1. Go to Data Products-> Provider Studio\n2. Click +Create Listing (to create a new listing)\n3. Select \"Specified Consumers\"\n4. Name the Listing (ie. XREGIONSHARE_LISTING). Click Save\n5. Click \"Add data product\" on the right\n6. Click \"+ Select\"\n7. Click the name of the database to share (CROSSREGIONSHARETEST)\n8. Open \"Secure View\" and select CUSTOMERV and click \"Done\"\n9. Change the name of the share identifier to something simpler like \"XREGION_SHARE\" and click \"Save\"\n10. Click \"Access Type\" on the right and select \"Free\"\n11. Add descriptive information in the other sections (Optional)\n12. Select \"Add a Consumer Account\" under \"Who can access\"\n    use the format ORGNAME.ACCOUNTNAME. If the Org/Account you specified exists in another region or cloud provider, you will be asked to specify a refresh interval for the your data product. When finished click \"Save\"\n13. Specify Legal Terms (select \"Terms of service provided offline\")\n14. You can click \"Preview\" to view the format of the listing as it will appear to the consumer. (Optional)\n15. If everything looks good, click \"Publish\" and your listing will be LIVE!\n\nTo Adjust the refresh interval, go back into the listing in Provider Studio, scroll down to Consumer Accounts. Click \"...\" and Click \"Update Refresh Frequency\""
  },
  {
   "cell_type": "markdown",
   "id": "9cf8e49b-f97f-4007-9d1d-38e1d52dc54c",
   "metadata": {
    "name": "cell14",
    "collapsed": false,
    "resultHeight": 46
   },
   "source": "### Now, go to the consumer account\n1. Click Data Products->Private Sharing\n2. Look for listing under \"Shared with You\" and select \"Get\".  Should be XREGIONSHARE\n\nAt this point, you will see an indicator that the data is replicating to the local region.  This may take several minutes. \n\n3. When complete, provide a name for the shared database (XREGIONSHAREDB)\n4. Execute the following in a worksheet or workspace on the consumer account\n\n        use role accountadmin;\n        \n        use schema xregionshareDB.public;\n        \n        select * from customerV limit 10; \n        \nValidate that the masking policy and encryption function are in effect!\n\n"
  },
  {
   "cell_type": "markdown",
   "id": "0618d832-1404-4a65-a608-09fc150b5410",
   "metadata": {
    "name": "cell15",
    "resultHeight": 46,
    "collapsed": false
   },
   "source": "### Note that the access for the consumer is revokable.  Revoke is immediate in the same region.  If different region, subject to the defined refresh interval specified in the listing"
  },
  {
   "cell_type": "code",
   "id": "cae5115d-c226-4116-bc4e-ed0f80d248b6",
   "metadata": {
    "language": "sql",
    "name": "cell16",
    "collapsed": false,
    "resultHeight": 0,
    "codeCollapsed": false
   },
   "outputs": [],
   "source": "revoke select on customerV from share XREGION_SHARE;",
   "execution_count": null
  },
  {
   "cell_type": "code",
   "id": "d5650f03-a0f7-4e76-a520-21e828d5bfe9",
   "metadata": {
    "language": "sql",
    "name": "cell19",
    "collapsed": false,
    "resultHeight": 0,
    "codeCollapsed": false
   },
   "outputs": [],
   "source": "grant select on customerV to share XREGION_SHARE;",
   "execution_count": null
  },
  {
   "cell_type": "markdown",
   "id": "33e1d033-de09-45c2-a089-3e696d68cfe0",
   "metadata": {
    "name": "cell74",
    "collapsed": false
   },
   "source": "### Cleanup..."
  },
  {
   "cell_type": "code",
   "id": "0c44254c-dfec-4431-8d65-7340ffc5db49",
   "metadata": {
    "language": "sql",
    "name": "cell4"
   },
   "outputs": [],
   "source": "-- Unpublish and drop the listing from Provider Studio\n\ndrop database if exists CROSSREGIONSHARETEST; ",
   "execution_count": null
  }
 ]
}